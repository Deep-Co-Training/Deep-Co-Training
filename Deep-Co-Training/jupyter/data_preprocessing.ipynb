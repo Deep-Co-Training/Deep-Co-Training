{
 "cells": [
  {
   "cell_type": "code",
   "execution_count": null,
   "id": "disciplinary-melissa",
   "metadata": {},
   "outputs": [],
   "source": [
    "import json\n",
    "import pandas as pd\n",
    "import os\n",
    "import nltk\n",
    "import string\n",
    "import re\n",
    "from nltk.corpus import wordnet\n",
    "import tarfile\n",
    "from sklearn.preprocessing import LabelEncoder\n",
    "from sklearn.model_selection import train_test_split"
   ]
  },
  {
   "cell_type": "markdown",
   "id": "sharp-mainland",
   "metadata": {},
   "source": [
    "# Creating dataframes"
   ]
  },
  {
   "cell_type": "code",
   "execution_count": null,
   "id": "945b760e",
   "metadata": {},
   "outputs": [],
   "source": [
    "curPath = os.getcwd()\n",
    "parentDir = os.path.abspath(os.path.join(curPath, os.pardir))\n",
    "print(\"Parent Directory\", parentDir)\n",
    "dockerDatasetPath = os.path.join(parentDir, \"datasets/yelp/yelp_review.csv\")\n",
    "print(\"Path:\", dockerDatasetPath)\n",
    "print(\"Exists:\", os.path.exists(dockerDatasetPath))"
   ]
  },
  {
   "cell_type": "code",
   "execution_count": null,
   "id": "37863861",
   "metadata": {},
   "outputs": [],
   "source": [
    "DivyaPath = \"/Users/divyashekar/Documents/Semester 5/Mini Project/GitHub/Deep-Co-Training/Deep-Co-Training/data/yelp_review.csv\""
   ]
  },
  {
   "cell_type": "code",
   "execution_count": null,
   "id": "patient-model",
   "metadata": {},
   "outputs": [],
   "source": [
    "df_review = pd.read_csv(dockerDatasetPath)"
   ]
  },
  {
   "cell_type": "code",
   "execution_count": null,
   "id": "traditional-citizenship",
   "metadata": {},
   "outputs": [],
   "source": [
    "df_review"
   ]
  },
  {
   "cell_type": "markdown",
   "id": "indoor-compensation",
   "metadata": {},
   "source": [
    "# Text Pre Processing"
   ]
  },
  {
   "cell_type": "markdown",
   "id": "premium-somewhere",
   "metadata": {},
   "source": [
    "## Removing numbers"
   ]
  },
  {
   "cell_type": "code",
   "execution_count": null,
   "id": "chronic-devil",
   "metadata": {},
   "outputs": [],
   "source": [
    "df_review[\"text\"] = df_review[\"text\"].replace(\"\\d+\", \"\", regex=True)"
   ]
  },
  {
   "cell_type": "code",
   "execution_count": null,
   "id": "automatic-metropolitan",
   "metadata": {},
   "outputs": [],
   "source": [
    "df_review"
   ]
  },
  {
   "cell_type": "markdown",
   "id": "finite-turner",
   "metadata": {},
   "source": [
    "## Removing punctuation"
   ]
  },
  {
   "cell_type": "code",
   "execution_count": null,
   "id": "accepted-vienna",
   "metadata": {},
   "outputs": [],
   "source": [
    "df_review[\"text\"] = df_review[\"text\"].str.replace(\"[{}]\".format(string.punctuation), \"\")"
   ]
  },
  {
   "cell_type": "code",
   "execution_count": null,
   "id": "demonstrated-combining",
   "metadata": {},
   "outputs": [],
   "source": [
    "df_review"
   ]
  },
  {
   "cell_type": "markdown",
   "id": "straight-rogers",
   "metadata": {},
   "source": [
    "## Removing whitespaces"
   ]
  },
  {
   "cell_type": "code",
   "execution_count": null,
   "id": "registered-carolina",
   "metadata": {},
   "outputs": [],
   "source": [
    "df_review[\"text\"] = df_review[\"text\"].str.strip()"
   ]
  },
  {
   "cell_type": "code",
   "execution_count": null,
   "id": "vertical-scottish",
   "metadata": {},
   "outputs": [],
   "source": [
    "df_review"
   ]
  },
  {
   "cell_type": "markdown",
   "id": "inappropriate-serial",
   "metadata": {},
   "source": [
    "## Converting to lowercase"
   ]
  },
  {
   "cell_type": "code",
   "execution_count": null,
   "id": "eastern-duplicate",
   "metadata": {},
   "outputs": [],
   "source": [
    "df_review[\"text\"] = df_review[\"text\"].str.lower()"
   ]
  },
  {
   "cell_type": "code",
   "execution_count": null,
   "id": "indirect-blowing",
   "metadata": {},
   "outputs": [],
   "source": [
    "df_review"
   ]
  },
  {
   "cell_type": "code",
   "execution_count": null,
   "id": "c829b2ac",
   "metadata": {},
   "outputs": [],
   "source": [
    "df_review = df_review.iloc[:500000, :]"
   ]
  },
  {
   "cell_type": "code",
   "execution_count": null,
   "id": "0a881aca",
   "metadata": {},
   "outputs": [],
   "source": [
    "df_review"
   ]
  },
  {
   "cell_type": "markdown",
   "id": "attractive-belle",
   "metadata": {},
   "source": [
    "## Removing stop words"
   ]
  },
  {
   "cell_type": "code",
   "execution_count": null,
   "id": "sustained-december",
   "metadata": {},
   "outputs": [],
   "source": [
    "from nltk.corpus import stopwords\n",
    "from nltk.tokenize import TweetTokenizer\n",
    "\n",
    "tokenizer = TweetTokenizer(preserve_case=True, strip_handles=True, reduce_len=True)"
   ]
  },
  {
   "cell_type": "code",
   "execution_count": null,
   "id": "extraordinary-painting",
   "metadata": {},
   "outputs": [],
   "source": [
    "def token(tweet):\n",
    "    return tokenizer.tokenize(tweet)"
   ]
  },
  {
   "cell_type": "code",
   "execution_count": null,
   "id": "requested-intersection",
   "metadata": {},
   "outputs": [],
   "source": [
    "df_review[\"text\"] = df_review[\"text\"].apply(token)"
   ]
  },
  {
   "cell_type": "code",
   "execution_count": null,
   "id": "brave-devices",
   "metadata": {},
   "outputs": [],
   "source": [
    "df_review"
   ]
  },
  {
   "cell_type": "code",
   "execution_count": null,
   "id": "compound-watch",
   "metadata": {},
   "outputs": [],
   "source": [
    "stop_words = set(stopwords.words(\"english\"))"
   ]
  },
  {
   "cell_type": "code",
   "execution_count": null,
   "id": "front-psychiatry",
   "metadata": {},
   "outputs": [],
   "source": [
    "def remove(tweet):\n",
    "    return [i for i in tweet if i not in stop_words]"
   ]
  },
  {
   "cell_type": "code",
   "execution_count": null,
   "id": "rolled-purse",
   "metadata": {},
   "outputs": [],
   "source": [
    "df_review[\"text\"] = df_review[\"text\"].apply(remove)"
   ]
  },
  {
   "cell_type": "code",
   "execution_count": null,
   "id": "enhanced-delicious",
   "metadata": {},
   "outputs": [],
   "source": [
    "df_review"
   ]
  },
  {
   "cell_type": "markdown",
   "id": "polished-indonesia",
   "metadata": {},
   "source": [
    "## Lemmatising"
   ]
  },
  {
   "cell_type": "code",
   "execution_count": null,
   "id": "lonely-handbook",
   "metadata": {},
   "outputs": [],
   "source": [
    "from nltk.stem import WordNetLemmatizer\n",
    "\n",
    "lemmatizer = WordNetLemmatizer()"
   ]
  },
  {
   "cell_type": "code",
   "execution_count": null,
   "id": "about-local",
   "metadata": {},
   "outputs": [],
   "source": [
    "def get_wordnet_POS(word):\n",
    "    tag = nltk.pos_tag([word])[0][1][0].upper()\n",
    "\n",
    "    tag_dict = {\n",
    "        \"J\": wordnet.ADJ,\n",
    "        \"N\": wordnet.NOUN,\n",
    "        \"V\": wordnet.VERB,\n",
    "        \"R\": wordnet.ADV,\n",
    "    }\n",
    "    return tag_dict.get(word, wordnet.NOUN)"
   ]
  },
  {
   "cell_type": "code",
   "execution_count": null,
   "id": "revised-north",
   "metadata": {},
   "outputs": [],
   "source": [
    "def lemm(tweet):\n",
    "    return [lemmatizer.lemmatize(i, get_wordnet_POS(i)) for i in tweet]"
   ]
  },
  {
   "cell_type": "code",
   "execution_count": null,
   "id": "enormous-subcommittee",
   "metadata": {},
   "outputs": [],
   "source": [
    "df_review[\"text\"] = df_review[\"text\"].apply(lemm)"
   ]
  },
  {
   "cell_type": "code",
   "execution_count": null,
   "id": "twelve-market",
   "metadata": {},
   "outputs": [],
   "source": [
    "df_review"
   ]
  },
  {
   "cell_type": "markdown",
   "id": "japanese-superintendent",
   "metadata": {},
   "source": [
    "## Saving processed data"
   ]
  },
  {
   "cell_type": "code",
   "execution_count": null,
   "id": "designed-observer",
   "metadata": {},
   "outputs": [],
   "source": [
    "df_review.to_csv(\"processed_data.csv\")"
   ]
  }
 ],
 "metadata": {
  "kernelspec": {
   "display_name": "Python 3",
   "language": "python",
   "name": "python3"
  },
  "language_info": {
   "codemirror_mode": {
    "name": "ipython",
    "version": 3
   },
   "file_extension": ".py",
   "mimetype": "text/x-python",
   "name": "python",
   "nbconvert_exporter": "python",
   "pygments_lexer": "ipython3",
   "version": "3.6.9"
  }
 },
 "nbformat": 4,
 "nbformat_minor": 5
}
