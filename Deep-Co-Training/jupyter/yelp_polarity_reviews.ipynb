{
 "cells": [
  {
   "cell_type": "code",
   "execution_count": null,
   "id": "90694afd",
   "metadata": {},
   "outputs": [],
   "source": [
    "import tensorflow as tf\n",
    "import os\n",
    "import pandas as pd"
   ]
  },
  {
   "cell_type": "code",
   "execution_count": null,
   "id": "ae7e1ee8",
   "metadata": {},
   "outputs": [],
   "source": [
    "header_list = ['review','text']"
   ]
  },
  {
   "cell_type": "code",
   "execution_count": null,
   "id": "91b87ae5",
   "metadata": {},
   "outputs": [],
   "source": [
    "dataset_path = \"datasets/yelp_polarity_reviews\"\n",
    "\n",
    "curPath = os.getcwd()\n",
    "parentDir = os.path.abspath(os.path.join(curPath, os.pardir))\n",
    "print(\"Parent Directory\", parentDir)\n",
    "dockerDatasetPath_train = os.path.join(parentDir, dataset_path+\"/train.csv\")\n",
    "dockerDatasetPath_test = os.path.join(parentDir, dataset_path+\"/test.csv\")\n",
    "\n",
    "print(\"Path:\", dockerDatasetPath_train)\n",
    "print(\"Exists:\", os.path.exists(dockerDatasetPath_train))\n",
    "\n",
    "df_train = pd.read_csv(dockerDatasetPath_train,names=header_list)\n",
    "df_test = pd.read_csv(dockerDatasetPath_test,names=header_list)"
   ]
  },
  {
   "cell_type": "code",
   "execution_count": null,
   "id": "3f4629e6",
   "metadata": {},
   "outputs": [],
   "source": [
    "df_train"
   ]
  },
  {
   "cell_type": "code",
   "execution_count": null,
   "id": "f17c0f2d",
   "metadata": {},
   "outputs": [],
   "source": [
    "text_np_array = df_train['text'].to_numpy()\n",
    "review_np_array = df_train['review'].to_numpy()\n",
    "\n",
    "print(text_np_array)\n",
    "print(review_np_array)"
   ]
  },
  {
   "cell_type": "code",
   "execution_count": null,
   "id": "9ef885d2",
   "metadata": {},
   "outputs": [],
   "source": [
    "train_dataset = tf.data.Dataset.from_tensor_slices((text_np_array,review_np_array))\n",
    "train_dataset"
   ]
  },
  {
   "cell_type": "code",
   "execution_count": null,
   "id": "10be17a6",
   "metadata": {},
   "outputs": [],
   "source": [
    "batch_size=128"
   ]
  },
  {
   "cell_type": "code",
   "execution_count": null,
   "id": "a4b1a45a",
   "metadata": {},
   "outputs": [],
   "source": [
    "train_dataset = train_dataset.shuffle(buffer_size=128).batch(batch_size)\n",
    "print('train:',train_dataset)"
   ]
  },
  {
   "cell_type": "code",
   "execution_count": null,
   "id": "f7ff4232",
   "metadata": {},
   "outputs": [],
   "source": [
    "list(train_dataset.as_numpy_iterator())[1]"
   ]
  },
  {
   "cell_type": "code",
   "execution_count": null,
   "id": "26e5bd13",
   "metadata": {},
   "outputs": [],
   "source": []
  }
 ],
 "metadata": {
  "kernelspec": {
   "display_name": "Python 3",
   "language": "python",
   "name": "python3"
  },
  "language_info": {
   "codemirror_mode": {
    "name": "ipython",
    "version": 3
   },
   "file_extension": ".py",
   "mimetype": "text/x-python",
   "name": "python",
   "nbconvert_exporter": "python",
   "pygments_lexer": "ipython3",
   "version": "3.6.9"
  }
 },
 "nbformat": 4,
 "nbformat_minor": 5
}
